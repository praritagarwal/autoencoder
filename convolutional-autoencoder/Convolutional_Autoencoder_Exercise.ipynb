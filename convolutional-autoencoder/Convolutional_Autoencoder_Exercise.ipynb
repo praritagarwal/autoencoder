{
 "cells": [
  {
   "cell_type": "markdown",
   "metadata": {},
   "source": [
    "# Convolutional Autoencoder\n",
    "\n",
    "Sticking with the MNIST dataset, let's improve our autoencoder's performance using convolutional layers. We'll build a convolutional autoencoder to compress the MNIST dataset. \n",
    "\n",
    ">The encoder portion will be made of convolutional and pooling layers and the decoder will be made of **transpose convolutional layers** that learn to \"upsample\" a compressed representation.\n",
    "\n",
    "<img src='notebook_ims/autoencoder_1.png' />\n",
    "\n",
    "### Compressed Representation\n",
    "\n",
    "A compressed representation can be great for saving and sharing any kind of data in a way that is more efficient than storing raw data. In practice, the compressed representation often holds key information about an input image and we can use it for denoising images or other kinds of reconstruction and transformation!\n",
    "\n",
    "<img src='notebook_ims/denoising.png' width=60%/>\n",
    "\n",
    "Let's get started by importing our libraries and getting the dataset."
   ]
  },
  {
   "cell_type": "code",
   "execution_count": 1,
   "metadata": {},
   "outputs": [],
   "source": [
    "import torch\n",
    "import numpy as np\n",
    "from torchvision import datasets\n",
    "import torchvision.transforms as transforms\n",
    "\n",
    "# convert data to torch.FloatTensor\n",
    "transform = transforms.ToTensor()\n",
    "\n",
    "# load the training and test datasets\n",
    "train_data = datasets.MNIST(root='data', train=True,\n",
    "                                   download=True, transform=transform)\n",
    "test_data = datasets.MNIST(root='data', train=False,\n",
    "                                  download=True, transform=transform)"
   ]
  },
  {
   "cell_type": "code",
   "execution_count": 2,
   "metadata": {},
   "outputs": [],
   "source": [
    "# Create training and test dataloaders\n",
    "\n",
    "num_workers = 0\n",
    "# how many samples per batch to load\n",
    "batch_size = 20\n",
    "\n",
    "# prepare data loaders\n",
    "train_loader = torch.utils.data.DataLoader(train_data, batch_size=batch_size, num_workers=num_workers)\n",
    "test_loader = torch.utils.data.DataLoader(test_data, batch_size=batch_size, num_workers=num_workers)"
   ]
  },
  {
   "cell_type": "markdown",
   "metadata": {},
   "source": [
    "### Visualize the Data"
   ]
  },
  {
   "cell_type": "code",
   "execution_count": 3,
   "metadata": {},
   "outputs": [
    {
     "data": {
      "text/plain": [
       "<matplotlib.image.AxesImage at 0x7fe01be2a3d0>"
      ]
     },
     "execution_count": 3,
     "metadata": {},
     "output_type": "execute_result"
    },
    {
     "data": {
      "image/png": "[encoded data removed]",
      "text/plain": [
       "<Figure size 360x360 with 1 Axes>"
      ]
     },
     "metadata": {
      "needs_background": "light"
     },
     "output_type": "display_data"
    }
   ],
   "source": [
    "import matplotlib.pyplot as plt\n",
    "%matplotlib inline\n",
    "    \n",
    "# obtain one batch of training images\n",
    "dataiter = iter(train_loader)\n",
    "images, labels = dataiter.next()\n",
    "images = images.numpy()\n",
    "\n",
    "# get one image from the batch\n",
    "img = np.squeeze(images[0])\n",
    "\n",
    "fig = plt.figure(figsize = (5,5)) \n",
    "ax = fig.add_subplot(111)\n",
    "ax.imshow(img, cmap='gray')"
   ]
  },
  {
   "cell_type": "markdown",
   "metadata": {},
   "source": [
    "---\n",
    "## Convolutional  Autoencoder\n",
    "\n",
    "#### Encoder\n",
    "The encoder part of the network will be a typical convolutional pyramid. Each convolutional layer will be followed by a max-pooling layer to reduce the dimensions of the layers. \n",
    "\n",
    "#### Decoder\n",
    "\n",
    "The decoder though might be something new to you. The decoder needs to convert from a narrow representation to a wide, reconstructed image. For example, the representation could be a 7x7x4 max-pool layer. This is the output of the encoder, but also the input to the decoder. We want to get a 28x28x1 image out from the decoder so we need to work our way back up from the compressed representation. A schematic of the network is shown below.\n",
    "\n",
    "<img src='notebook_ims/conv_enc_1.png' width=640px>\n",
    "\n",
    "Here our final encoder layer has size 7x7x4 = 196. The original images have size 28x28 = 784, so the encoded vector is 25% the size of the original image. These are just suggested sizes for each of the layers. Feel free to change the depths and sizes, in fact, you're encouraged to add additional layers to make this representation even smaller! Remember our goal here is to find a small representation of the input data.\n",
    "\n",
    "### Transpose Convolutions, Decoder\n",
    "\n",
    "This decoder uses **transposed convolutional** layers to increase the width and height of the input layers. They work almost exactly the same as convolutional layers, but in reverse. A stride in the input layer results in a larger stride in the transposed convolution layer. For example, if you have a 3x3 kernel, a 3x3 patch in the input layer will be reduced to one unit in a convolutional layer. Comparatively, one unit in the input layer will be expanded to a 3x3 path in a transposed convolution layer. PyTorch provides us with an easy way to create the layers, [`nn.ConvTranspose2d`](https://pytorch.org/docs/stable/nn.html#convtranspose2d). \n",
    "\n",
    "It is important to note that transpose convolution layers can lead to artifacts in the final images, such as checkerboard patterns. This is due to overlap in the kernels which can be avoided by setting the stride and kernel size equal. In [this Distill article](http://distill.pub/2016/deconv-checkerboard/) from Augustus Odena, *et al*, the authors show that these checkerboard artifacts can be avoided by resizing the layers using nearest neighbor or bilinear interpolation (upsampling) followed by a convolutional layer. \n",
    "\n",
    "> We'll show this approach in another notebook, so you can experiment with it and see the difference.\n",
    "\n",
    "\n",
    "#### TODO: Build the network shown above. \n",
    "> Build the encoder out of a series of convolutional and pooling layers. \n",
    "> When building the decoder, recall that transpose convolutional layers can upsample an input by a factor of 2 using a stride and kernel_size of 2. "
   ]
  },
  {
   "cell_type": "code",
   "execution_count": 4,
   "metadata": {},
   "outputs": [
    {
     "name": "stdout",
     "output_type": "stream",
     "text": [
      "model_k3:\n",
      " ConvAutoencoder(\n",
      "  (l1): Conv2d(1, 16, kernel_size=(3, 3), stride=(1, 1), padding=(1, 1))\n",
      "  (l2): MaxPool2d(kernel_size=2, stride=2, padding=0, dilation=1, ceil_mode=False)\n",
      "  (l3): Conv2d(16, 4, kernel_size=(3, 3), stride=(1, 1), padding=(1, 1))\n",
      "  (l4): MaxPool2d(kernel_size=2, stride=2, padding=0, dilation=1, ceil_mode=False)\n",
      "  (t_conv1): ConvTranspose2d(4, 16, kernel_size=(2, 2), stride=(2, 2))\n",
      "  (t_conv2): ConvTranspose2d(16, 1, kernel_size=(2, 2), stride=(2, 2))\n",
      ")\n",
      "\n",
      "model_k5:\n",
      " ConvAutoencoder(\n",
      "  (l1): Conv2d(1, 16, kernel_size=(5, 5), stride=(1, 1), padding=(2, 2))\n",
      "  (l2): MaxPool2d(kernel_size=2, stride=2, padding=0, dilation=1, ceil_mode=False)\n",
      "  (l3): Conv2d(16, 4, kernel_size=(5, 5), stride=(1, 1), padding=(2, 2))\n",
      "  (l4): MaxPool2d(kernel_size=2, stride=2, padding=0, dilation=1, ceil_mode=False)\n",
      "  (t_conv1): ConvTranspose2d(4, 16, kernel_size=(4, 4), stride=(2, 2), padding=(1, 1))\n",
      "  (t_conv2): ConvTranspose2d(16, 1, kernel_size=(4, 4), stride=(2, 2), padding=(1, 1))\n",
      ")\n"
     ]
    }
   ],
   "source": [
    "import torch.nn as nn\n",
    "import torch.nn.functional as F\n",
    "\n",
    "# define the NN architecture\n",
    "class ConvAutoencoder(nn.Module):\n",
    "    ''' Note that in this implementatio we will always assume kernel size provided \n",
    "    by the user to be an odd number. If this is not true, then kernel size will reduced \n",
    "    to the largest odd number smaller than the input kernel size '''\n",
    "    def __init__(self, kernel_size = 3):\n",
    "        super(ConvAutoencoder, self).__init__()\n",
    "        ## encoder layers ##\n",
    "        \n",
    "        if kernel_size%2 == 0:\n",
    "            print('Input value for kernel size is NOT odd')\n",
    "            print('Choosing kernel size to be the largest odd number smaller than the input value')\n",
    "            print('Input value: {}, Chosen value: {}'.format(kernel_size, kernel_size -1))\n",
    "            kernel_size -=1\n",
    "        padding = int(kernel_size/2)\n",
    "        \n",
    "        self.l1 = nn.Conv2d(1,16,kernel_size = kernel_size, padding = padding, stride = 1)\n",
    "        self.l2 = nn.MaxPool2d(kernel_size = 2) # note that downsampling happens only when the stride is non-trivial\n",
    "                                                # so in principle, just setting the kernel_size = 2 does NOT reduce \n",
    "                                                # the size of the input feature maps to the maxpool layer\n",
    "                                                # we should ideally set stride >= 2 for downsampling\n",
    "                                                # however, in pytorch, the default stride for maxpool layers is set to be\n",
    "                                                # same as kernel size. Thus just setting kernel_size = 2 for \n",
    "                                                # MaxPool2d works fine in the present case\n",
    "                            \n",
    "        self.l3 = nn.Conv2d(16, 4, kernel_size = kernel_size, padding = padding, stride = 1)\n",
    "        self.l4 = nn.MaxPool2d(kernel_size = 2)\n",
    "        \n",
    "        ## decoder layers ##\n",
    "        ## a kernel of 2 and a stride of 2 will increase the spatial dims by 2\n",
    "        \n",
    "        # for transpose convolutional kernel the easiest way to ensure doubling of size \n",
    "        # is to choose even valued kernel_size \n",
    "        kernel_size = kernel_size -1\n",
    "        # appropriate padding to make sure that the output feature map is double the size of the input feature map\n",
    "        padding = int(kernel_size/2)-1\n",
    "        \n",
    "        self.t_conv1 = nn.ConvTranspose2d(4, 16, kernel_size = kernel_size, \n",
    "                                          padding = padding, stride=2)\n",
    "        self.t_conv2 = nn.ConvTranspose2d(16,1, kernel_size = kernel_size, \n",
    "                                          padding = padding, stride = 2)\n",
    "\n",
    "\n",
    "    def forward(self, x):\n",
    "        ## encode ##\n",
    "        # print(x.size())\n",
    "        x = self.l1(x)\n",
    "        # print('l1: {}'.format(x.size()))\n",
    "        x = F.relu(self.l2(x))\n",
    "        # print('l2: {}'.format(x.size()))\n",
    "        x = self.l3(x)\n",
    "        # print('l3: {}'.format(x.size()))\n",
    "        x = F.relu(self.l4(x))   \n",
    "        # print('l4: {}'.format(x.size()))\n",
    "        \n",
    "        ## decode ##\n",
    "        ## apply ReLu to all hidden layers *except for the output layer\n",
    "        ## apply a sigmoid to the output layer\n",
    "        x = F.relu(self.t_conv1(x))\n",
    "        # print('t_conv1: {}'.format(x.size()))\n",
    "        x = torch.sigmoid(self.t_conv2(x))\n",
    "        \n",
    "        \n",
    "                \n",
    "        return x\n",
    "\n",
    "# initialize the NN\n",
    "model_k3 = ConvAutoencoder()\n",
    "model_k5 = ConvAutoencoder(kernel_size = 5)\n",
    "print('model_k3:\\n', model_k3)\n",
    "print('\\nmodel_k5:\\n', model_k5)"
   ]
  },
  {
   "cell_type": "markdown",
   "metadata": {},
   "source": [
    "---\n",
    "## Training\n",
    "\n",
    "Here I'll write a bit of code to train the network. I'm not too interested in validation here, so I'll just monitor the training loss and the test loss afterwards. \n",
    "\n",
    "We are not concerned with labels in this case, just images, which we can get from the `train_loader`. Because we're comparing pixel values in input and output images, it will be best to use a loss that is meant for a regression task. Regression is all about comparing quantities rather than probabilistic values. So, in this case, I'll use `MSELoss`. And compare output images and input images as follows:\n",
    "```\n",
    "loss = criterion(outputs, images)\n",
    "```\n",
    "\n",
    "Otherwise, this is pretty straightfoward training with PyTorch. Since this is a convlutional autoencoder, our images _do not_ need to be flattened before being passed in an input to our model."
   ]
  },
  {
   "cell_type": "code",
   "execution_count": 5,
   "metadata": {},
   "outputs": [],
   "source": [
    "# specify loss function\n",
    "criterion = nn.MSELoss()\n",
    "\n",
    "# specify loss function\n",
    "optimizer_k3 = torch.optim.Adam(model_k3.parameters(), lr=0.001)\n",
    "optimizer_k5 = torch.optim.Adam(model_k5.parameters(), lr=0.001)"
   ]
  },
  {
   "cell_type": "code",
   "execution_count": 6,
   "metadata": {
    "scrolled": false
   },
   "outputs": [
    {
     "name": "stdout",
     "output_type": "stream",
     "text": [
      "\n",
      "Epoch: 1\n",
      "model_k3: \tTraining Loss: 0.424763\n",
      "model_k5: \tTraining Loss: 2.261162\n",
      "\n",
      "Epoch: 2\n",
      "model_k3: \tTraining Loss: 0.275871\n",
      "model_k5: \tTraining Loss: 2.240052\n",
      "\n",
      "Epoch: 3\n",
      "model_k3: \tTraining Loss: 0.254899\n",
      "model_k5: \tTraining Loss: 2.240051\n",
      "\n",
      "Epoch: 4\n",
      "model_k3: \tTraining Loss: 0.241122\n",
      "model_k5: \tTraining Loss: 2.240051\n",
      "\n",
      "Epoch: 5\n",
      "model_k3: \tTraining Loss: 0.232749\n",
      "model_k5: \tTraining Loss: 2.240051\n",
      "\n",
      "Epoch: 6\n",
      "model_k3: \tTraining Loss: 0.225808\n",
      "model_k5: \tTraining Loss: 2.240051\n",
      "\n",
      "Epoch: 7\n",
      "model_k3: \tTraining Loss: 0.218949\n",
      "model_k5: \tTraining Loss: 2.240051\n",
      "\n",
      "Epoch: 8\n",
      "model_k3: \tTraining Loss: 0.214396\n",
      "model_k5: \tTraining Loss: 2.240051\n",
      "\n",
      "Epoch: 9\n",
      "model_k3: \tTraining Loss: 0.211002\n",
      "model_k5: \tTraining Loss: 2.240051\n",
      "\n",
      "Epoch: 10\n",
      "model_k3: \tTraining Loss: 0.207741\n",
      "model_k5: \tTraining Loss: 2.240051\n",
      "\n",
      "Epoch: 11\n",
      "model_k3: \tTraining Loss: 0.205037\n",
      "model_k5: \tTraining Loss: 2.240051\n",
      "\n",
      "Epoch: 12\n",
      "model_k3: \tTraining Loss: 0.202859\n",
      "model_k5: \tTraining Loss: 2.240051\n",
      "\n",
      "Epoch: 13\n",
      "model_k3: \tTraining Loss: 0.200902\n",
      "model_k5: \tTraining Loss: 2.240051\n",
      "\n",
      "Epoch: 14\n",
      "model_k3: \tTraining Loss: 0.199197\n",
      "model_k5: \tTraining Loss: 2.240051\n",
      "\n",
      "Epoch: 15\n",
      "model_k3: \tTraining Loss: 0.197843\n",
      "model_k5: \tTraining Loss: 2.240051\n",
      "\n",
      "Epoch: 16\n",
      "model_k3: \tTraining Loss: 0.196718\n",
      "model_k5: \tTraining Loss: 2.240051\n",
      "\n",
      "Epoch: 17\n",
      "model_k3: \tTraining Loss: 0.195799\n",
      "model_k5: \tTraining Loss: 2.240051\n",
      "\n",
      "Epoch: 18\n",
      "model_k3: \tTraining Loss: 0.195013\n",
      "model_k5: \tTraining Loss: 2.240051\n",
      "\n",
      "Epoch: 19\n",
      "model_k3: \tTraining Loss: 0.194328\n",
      "model_k5: \tTraining Loss: 2.240051\n",
      "\n",
      "Epoch: 20\n",
      "model_k3: \tTraining Loss: 0.193676\n",
      "model_k5: \tTraining Loss: 2.240051\n",
      "\n",
      "Epoch: 21\n",
      "model_k3: \tTraining Loss: 0.193080\n",
      "model_k5: \tTraining Loss: 2.240051\n",
      "\n",
      "Epoch: 22\n",
      "model_k3: \tTraining Loss: 0.192479\n",
      "model_k5: \tTraining Loss: 2.240051\n",
      "\n",
      "Epoch: 23\n",
      "model_k3: \tTraining Loss: 0.191938\n",
      "model_k5: \tTraining Loss: 2.240051\n",
      "\n",
      "Epoch: 24\n",
      "model_k3: \tTraining Loss: 0.191508\n",
      "model_k5: \tTraining Loss: 2.240051\n",
      "\n",
      "Epoch: 25\n",
      "model_k3: \tTraining Loss: 0.191145\n",
      "model_k5: \tTraining Loss: 2.240051\n",
      "\n",
      "Epoch: 26\n",
      "model_k3: \tTraining Loss: 0.190821\n",
      "model_k5: \tTraining Loss: 2.240051\n",
      "\n",
      "Epoch: 27\n",
      "model_k3: \tTraining Loss: 0.190530\n",
      "model_k5: \tTraining Loss: 2.240051\n",
      "\n",
      "Epoch: 28\n",
      "model_k3: \tTraining Loss: 0.190243\n",
      "model_k5: \tTraining Loss: 2.240051\n",
      "\n",
      "Epoch: 29\n",
      "model_k3: \tTraining Loss: 0.189956\n",
      "model_k5: \tTraining Loss: 2.240051\n",
      "\n",
      "Epoch: 30\n",
      "model_k3: \tTraining Loss: 0.189689\n",
      "model_k5: \tTraining Loss: 2.240051\n"
     ]
    }
   ],
   "source": [
    "# number of epochs to train the model\n",
    "n_epochs = 30\n",
    "\n",
    "for epoch in range(1, n_epochs+1):\n",
    "    # monitor training loss\n",
    "    train_loss_k3 = 0.0\n",
    "    train_loss_k5 = 0.0\n",
    "    \n",
    "    ###################\n",
    "    # train the model #\n",
    "    ###################\n",
    "    for data in train_loader:\n",
    "        # _ stands in for labels, here\n",
    "        # no need to flatten images\n",
    "        images, _ = data\n",
    "        # clear the gradients of all optimized variables\n",
    "        optimizer_k3.zero_grad()\n",
    "        optimizer_k5.zero_grad()\n",
    "        # forward pass: compute predicted outputs by passing inputs to the model\n",
    "        outputs_k3 = model_k3(images)\n",
    "        outputs_k5 = model_k5(images)\n",
    "        # calculate the loss\n",
    "        loss_k3 = criterion(outputs_k3, images)\n",
    "        # backward pass: compute gradient of the loss with respect to model parameters\n",
    "        loss_k3.backward()\n",
    "        # perform a single optimization step (parameter update)\n",
    "        optimizer_k3.step()\n",
    "        # update running training loss\n",
    "        train_loss_k3 += loss_k3.item()*images.size(0)\n",
    "        \n",
    "        # loss of model_k5\n",
    "        loss_k5 = criterion(outputs_k5, images)\n",
    "        # backwards pass\n",
    "        loss_k5.backward()\n",
    "        # optimizer step\n",
    "        optimizer_k5.step()\n",
    "        # training loss\n",
    "        train_loss_k5 +=loss_k5.item()*images.size(0)\n",
    "            \n",
    "    # print avg training statistics \n",
    "    print('\\nEpoch: {}'.format(epoch))\n",
    "    train_loss_k3 = train_loss_k3/len(train_loader)\n",
    "    print('model_k3: \\tTraining Loss: {:.6f}'.format(train_loss_k3))\n",
    "    train_loss_k5 = train_loss_k5/len(train_loader)\n",
    "    print('model_k5: \\tTraining Loss: {:.6f}'.format(train_loss_k5))"
   ]
  },
  {
   "cell_type": "markdown",
   "metadata": {},
   "source": [
    "## Checking out the results\n",
    "\n",
    "Below I've plotted some of the test images along with their reconstructions. These look a little rough around the edges, likely due to the checkerboard effect we mentioned above that tends to happen with transpose layers."
   ]
  },
  {
   "cell_type": "code",
   "execution_count": 7,
   "metadata": {},
   "outputs": [
    {
     "data": {
      "image/png": "[encoded data removed]",
      "text/plain": [
       "<Figure size 1800x288 with 30 Axes>"
      ]
     },
     "metadata": {
      "needs_background": "light"
     },
     "output_type": "display_data"
    }
   ],
   "source": [
    "# obtain one batch of test images\n",
    "dataiter = iter(test_loader)\n",
    "images, labels = dataiter.next()\n",
    "\n",
    "# get sample outputs\n",
    "output_k3 = model_k3(images)\n",
    "output_k5 = model_k5(images)\n",
    "# prep images for display\n",
    "images = images.numpy()\n",
    "\n",
    "# output is resized into a batch of iages\n",
    "output_k3 = output_k3.view(batch_size, 1, 28, 28)\n",
    "output_k5 = output_k5.view(batch_size, 1, 28,28)\n",
    "# use detach when it's an output that requires_grad\n",
    "output_k3 = output_k3.detach().numpy()\n",
    "output_k5 = output_k5.detach().numpy()\n",
    "\n",
    "# plot the first ten input images and then reconstructed images\n",
    "fig, axes = plt.subplots(nrows=3, ncols=10, sharex=True, sharey=True, figsize=(25,4))\n",
    "\n",
    "# input images on top row, reconstructions on bottom\n",
    "for images, row in zip([images, output_k3, output_k5], axes):\n",
    "    for img, ax in zip(images, row):\n",
    "        ax.imshow(np.squeeze(img), cmap='gray')\n",
    "        ax.get_xaxis().set_visible(False)\n",
    "        ax.get_yaxis().set_visible(False)"
   ]
  },
  {
   "cell_type": "markdown",
   "metadata": {},
   "source": [
    "We trained two autoencoders above. The first one used 3 x 3 kernel in the encoder and 2 x 2 kernels in the decoder. The second model used 5 x 5 kernels in the encoder and 4 x 4 kernels in the decoder. Turns out the second model totally failed to train. This can be seen from the fact that its training loss does not decrease after the 3rd epoch. This can also be seen in the images produced by it (see images in the last row above) which are completely blank. I suspect that this is because the 5 x 5 kernels are too big for the starting image. As the results, they wrangle the information in the images beyond recognition by the time we reach the last layer of the encoder whose feature maps having a 7x7 size are barely larger than the kernels themselves. I think the 5 x 5 kernels would have been fine on larger images."
   ]
  },
  {
   "cell_type": "markdown",
   "metadata": {},
   "source": [
    "## Encoder with upsampling and convolutional layers"
   ]
  },
  {
   "cell_type": "markdown",
   "metadata": {},
   "source": [
    "Let us now replace the transpose convolution layers by upsampling+convolution layers in the model."
   ]
  },
  {
   "cell_type": "code",
   "execution_count": 5,
   "metadata": {},
   "outputs": [],
   "source": [
    "import torch.nn as nn\n",
    "import torch.nn.functional as F\n",
    "\n",
    "class autoencoder(nn.Module):\n",
    "    def __init__(self, kernel_size = 3):\n",
    "        super().__init__()\n",
    "        \n",
    "        padding = int(kernel_size/2)\n",
    "        # encoder\n",
    "        \n",
    "        self.conv1 = nn.Conv2d(1, 16, kernel_size = kernel_size, padding = padding)\n",
    "        self.pool = nn.MaxPool2d(2)\n",
    "        self.conv2 = nn.Conv2d(16, 4, kernel_size = kernel_size, padding = padding)\n",
    "        \n",
    "        # decoder\n",
    "        self.conv3 = nn.Conv2d(4, 16, kernel_size = kernel_size, padding = padding)\n",
    "        self.conv4 = nn.Conv2d(16, 1, kernel_size = kernel_size, padding = padding )\n",
    "        \n",
    "    def forward(self, x):\n",
    "        x = self.conv1(x)\n",
    "        x = F.relu(self.pool(x))\n",
    "        x = self.conv2(x)\n",
    "        x = F.relu(self.pool(x))\n",
    "        x = F.interpolate(x, scale_factor = 2)\n",
    "        x = F.relu(self.conv3(x))\n",
    "        x = F.interpolate(x, scale_factor = 2)\n",
    "        x = torch.sigmoid(self.conv4(x))\n",
    "        \n",
    "        return x"
   ]
  },
  {
   "cell_type": "code",
   "execution_count": 6,
   "metadata": {},
   "outputs": [
    {
     "name": "stdout",
     "output_type": "stream",
     "text": [
      "size of input images: torch.Size([20, 1, 28, 28])\n",
      "size of output images: torch.Size([20, 1, 28, 28])\n"
     ]
    }
   ],
   "source": [
    "images, _ = dataiter.next()\n",
    "print('size of input images: {}'.format(images.size()))\n",
    "model = autoencoder()\n",
    "outputs = model(images)\n",
    "print('size of output images: {}'.format(outputs.size()))"
   ]
  },
  {
   "cell_type": "code",
   "execution_count": 7,
   "metadata": {},
   "outputs": [],
   "source": [
    "criterion = nn.MSELoss()\n",
    "optimizer = torch.optim.Adam(model.parameters(), lr = 0.001)"
   ]
  },
  {
   "cell_type": "code",
   "execution_count": 8,
   "metadata": {},
   "outputs": [
    {
     "name": "stdout",
     "output_type": "stream",
     "text": [
      "Epoch: 1, \tTraining Loss: 0.300202\n",
      "Epoch: 2, \tTraining Loss: 0.136148\n",
      "Epoch: 3, \tTraining Loss: 0.123543\n",
      "Epoch: 4, \tTraining Loss: 0.117817\n",
      "Epoch: 5, \tTraining Loss: 0.114540\n",
      "Epoch: 6, \tTraining Loss: 0.112437\n",
      "Epoch: 7, \tTraining Loss: 0.110806\n",
      "Epoch: 8, \tTraining Loss: 0.109492\n",
      "Epoch: 9, \tTraining Loss: 0.108400\n",
      "Epoch: 10, \tTraining Loss: 0.107472\n",
      "Epoch: 11, \tTraining Loss: 0.106682\n",
      "Epoch: 12, \tTraining Loss: 0.106008\n",
      "Epoch: 13, \tTraining Loss: 0.105421\n",
      "Epoch: 14, \tTraining Loss: 0.104912\n",
      "Epoch: 15, \tTraining Loss: 0.104451\n",
      "Epoch: 16, \tTraining Loss: 0.104017\n",
      "Epoch: 17, \tTraining Loss: 0.103621\n",
      "Epoch: 18, \tTraining Loss: 0.103214\n",
      "Epoch: 19, \tTraining Loss: 0.102736\n",
      "Epoch: 20, \tTraining Loss: 0.102229\n",
      "Epoch: 21, \tTraining Loss: 0.101702\n",
      "Epoch: 22, \tTraining Loss: 0.101156\n",
      "Epoch: 23, \tTraining Loss: 0.100664\n",
      "Epoch: 24, \tTraining Loss: 0.100198\n",
      "Epoch: 25, \tTraining Loss: 0.099738\n",
      "Epoch: 26, \tTraining Loss: 0.099239\n",
      "Epoch: 27, \tTraining Loss: 0.098760\n",
      "Epoch: 28, \tTraining Loss: 0.098329\n",
      "Epoch: 29, \tTraining Loss: 0.097938\n",
      "Epoch: 30, \tTraining Loss: 0.097582\n"
     ]
    }
   ],
   "source": [
    "epochs = 30 \n",
    "\n",
    "for epoch in range(1, epochs+1):\n",
    "    train_loss = 0.0\n",
    "    for images, _, in train_loader:\n",
    "        \n",
    "        optimizer.zero_grad()\n",
    "        outputs = model(images)\n",
    "        loss = criterion(outputs, images)\n",
    "        loss.backward()\n",
    "        optimizer.step()\n",
    "        \n",
    "        train_loss+=loss.item()*images.size(0)\n",
    "    \n",
    "    train_loss/=len(train_loader)    \n",
    "    print('Epoch: {}, \\tTraining Loss: {:.6f}'.format(epoch, train_loss))    \n",
    "    "
   ]
  },
  {
   "cell_type": "code",
   "execution_count": 9,
   "metadata": {},
   "outputs": [
    {
     "data": {
      "image/png": "[encoded data removed]",
      "text/plain": [
       "<Figure size 1800x288 with 20 Axes>"
      ]
     },
     "metadata": {
      "needs_background": "light"
     },
     "output_type": "display_data"
    }
   ],
   "source": [
    "# sample output of the autoencoder\n",
    "dataiter = iter(test_loader)\n",
    "images, _ = dataiter.next()\n",
    "outputs = model(images)\n",
    "\n",
    "imgs = images.numpy() \n",
    "out = outputs.detach().numpy()\n",
    "\n",
    "fig, ax = plt.subplots(nrows = 2, ncols = 10, figsize = (25, 4))\n",
    "for row in range(2):\n",
    "    if row == 0:\n",
    "        im = imgs\n",
    "    else:\n",
    "        im = out\n",
    "    for col in range(10):\n",
    "        ax[row, col].imshow(np.squeeze(im[col]), cmap = 'gray')\n",
    "        ax[row, col].axis('off')\n",
    "plt.show()        "
   ]
  },
  {
   "cell_type": "markdown",
   "metadata": {},
   "source": [
    "The images produces by the autoencoder look pretty good!"
   ]
  },
  {
   "cell_type": "code",
   "execution_count": null,
   "metadata": {},
   "outputs": [],
   "source": []
  }
 ],
 "metadata": {
  "kernelspec": {
   "display_name": "Python [conda env:pytorch]",
   "language": "python",
   "name": "conda-env-pytorch-py"
  },
  "language_info": {
   "codemirror_mode": {
    "name": "ipython",
    "version": 3
   },
   "file_extension": ".py",
   "mimetype": "text/x-python",
   "name": "python",
   "nbconvert_exporter": "python",
   "pygments_lexer": "ipython3",
   "version": "3.7.6"
  }
 },
 "nbformat": 4,
 "nbformat_minor": 2
}
