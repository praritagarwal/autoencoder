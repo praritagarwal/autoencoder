{
 "cells": [
  {
   "cell_type": "markdown",
   "metadata": {},
   "source": [
    "# Denoising Autoencoder\n",
    "\n",
    "Sticking with the MNIST dataset, let's add noise to our data and see if we can define and train an autoencoder to _de_-noise the images.\n",
    "\n",
    "<img src='notebook_ims/autoencoder_denoise.png' width=70%/>\n",
    "\n",
    "Let's get started by importing our libraries and getting the dataset."
   ]
  },
  {
   "cell_type": "code",
   "execution_count": 1,
   "metadata": {},
   "outputs": [],
   "source": [
    "import torch\n",
    "import numpy as np\n",
    "from torchvision import datasets\n",
    "import torchvision.transforms as transforms\n",
    "\n",
    "# convert data to torch.FloatTensor\n",
    "transform = transforms.ToTensor()\n",
    "\n",
    "# load the training and test datasets\n",
    "train_data = datasets.MNIST(root='data', train=True,\n",
    "                                   download=True, transform=transform)\n",
    "test_data = datasets.MNIST(root='data', train=False,\n",
    "                                  download=True, transform=transform)\n",
    "\n",
    "# Create training and test dataloaders\n",
    "num_workers = 0\n",
    "# how many samples per batch to load\n",
    "batch_size = 20\n",
    "\n",
    "# prepare data loaders\n",
    "train_loader = torch.utils.data.DataLoader(train_data, batch_size=batch_size, num_workers=num_workers)\n",
    "test_loader = torch.utils.data.DataLoader(test_data, batch_size=batch_size, num_workers=num_workers)"
   ]
  },
  {
   "cell_type": "markdown",
   "metadata": {},
   "source": [
    "### Visualize the Data"
   ]
  },
  {
   "cell_type": "code",
   "execution_count": 2,
   "metadata": {},
   "outputs": [
    {
     "data": {
      "text/plain": [
       "<matplotlib.image.AxesImage at 0x7f5873dea890>"
      ]
     },
     "execution_count": 2,
     "metadata": {},
     "output_type": "execute_result"
    },
    {
     "data": {
      "image/png": "[encoded data removed]",
      "text/plain": [
       "<Figure size 360x360 with 1 Axes>"
      ]
     },
     "metadata": {
      "needs_background": "light"
     },
     "output_type": "display_data"
    }
   ],
   "source": [
    "import matplotlib.pyplot as plt\n",
    "%matplotlib inline\n",
    "    \n",
    "# obtain one batch of training images\n",
    "dataiter = iter(train_loader)\n",
    "images, labels = dataiter.next()\n",
    "images = images.numpy()\n",
    "\n",
    "# get one image from the batch\n",
    "img = np.squeeze(images[0])\n",
    "\n",
    "fig = plt.figure(figsize = (5,5)) \n",
    "ax = fig.add_subplot(111)\n",
    "ax.imshow(img, cmap='gray')"
   ]
  },
  {
   "cell_type": "markdown",
   "metadata": {},
   "source": [
    "---\n",
    "# Denoising\n",
    "\n",
    "As I've mentioned before, autoencoders like the ones you've built so far aren't too useful in practive. However, they can be used to denoise images quite successfully just by training the network on noisy images. We can create the noisy images ourselves by adding Gaussian noise to the training images, then clipping the values to be between 0 and 1.\n",
    "\n",
    ">**We'll use noisy images as input and the original, clean images as targets.** \n",
    "\n",
    "Below is an example of some of the noisy images I generated and the associated, denoised images.\n",
    "\n",
    "<img src='notebook_ims/denoising.png' />\n",
    "\n",
    "\n",
    "Since this is a harder problem for the network, we'll want to use _deeper_ convolutional layers here; layers with more feature maps. You might also consider adding additional layers. I suggest starting with a depth of 32 for the convolutional layers in the encoder, and the same depths going backward through the decoder.\n",
    "\n",
    "#### TODO: Build the network for the denoising autoencoder. Add deeper and/or additional layers compared to the model above."
   ]
  },
  {
   "cell_type": "code",
   "execution_count": 28,
   "metadata": {},
   "outputs": [],
   "source": [
    "import torch.nn as nn\n",
    "import torch.nn.functional as F\n",
    "\n",
    "# define the NN architecture\n",
    "class ConvDenoiser(nn.Module):\n",
    "    def __init__(self, kernel_size = 3, use_ConvTrans = False):\n",
    "        super(ConvDenoiser, self).__init__()\n",
    "        ## encoder layers ##\n",
    "        \n",
    "        self.use_ConvTrans = use_ConvTrans\n",
    "        \n",
    "        padding = int(kernel_size/2)\n",
    "        self.conv1 = nn.Conv2d(1, 32, kernel_size = kernel_size, padding = padding)\n",
    "        self.pool1 = nn.AvgPool2d(3, stride = 1, padding = 1)\n",
    "        self.conv2 = nn.Conv2d(32, 16, kernel_size = kernel_size, padding = padding )\n",
    "        self.pool2 = nn.MaxPool2d(2, stride = 2)\n",
    "        self.conv3 = nn.Conv2d(16, 8, kernel_size = kernel_size, padding = padding)\n",
    "        self.conv4 = nn.Conv2d(8, 4, kernel_size = kernel_size, padding = padding)\n",
    "        \n",
    "        ## decoder layers ##\n",
    "      \n",
    "        # let's try to use upsampling instead of transpose convolutions\n",
    "        self.conv5 = nn.Conv2d(4, 8, kernel_size = kernel_size, padding = padding)\n",
    "        self.conv6 = nn.Conv2d(8,16, kernel_size = kernel_size, padding = padding)\n",
    "        self.conv7 = nn.Conv2d(16, 32, kernel_size = kernel_size, padding = padding)\n",
    "        self.conv8 = nn.Conv2d(32, 1, kernel_size = kernel_size, padding = padding)\n",
    "        \n",
    "        # decoder if using transpose convolutions\n",
    "        ## a kernel of 2 and a stride of 2 will increase the spatial dims by 2\n",
    "        self.trans_conv1 = nn.ConvTranspose2d(4, 8, kernel_size = 2, stride = 2)\n",
    "        self.trans_conv2 = nn.ConvTranspose2d(8, 16, kernel_size = 2, stride = 2)\n",
    "        self.conv9 = nn.Conv2d(16, 32, kernel_size = kernel_size, padding = padding)\n",
    "        self.conv10 = nn.Conv2d(32, 1, kernel_size = kernel_size, padding = padding)\n",
    "        \n",
    "        \n",
    "        \n",
    "        \n",
    "        \n",
    "    def decode_upsampling(self, x):\n",
    "        x = F.interpolate(x, scale_factor = 2) # feature maps: 14 x 14\n",
    "        x = F.relu(self.conv5(x))\n",
    "        x = F.relu(self.conv6(x))\n",
    "        x = F.interpolate(x, scale_factor = 2) # feature maps: 28 x 28\n",
    "        x = F.relu(self.conv7(x))\n",
    "        x = torch.sigmoid(self.conv8(x))\n",
    "        \n",
    "        return x\n",
    "    \n",
    "    def decode_transposeConv(self, x):\n",
    "        x = F.relu(self.trans_conv1(x))\n",
    "        x = F.relu(self.trans_conv2(x))\n",
    "        x = F.relu(self.conv9(x))\n",
    "        x = torch.sigmoid(self.conv10(x))\n",
    "        \n",
    "        return x\n",
    "\n",
    "    def forward(self, x):\n",
    "        \n",
    "        ## encode ##\n",
    "        x = self.conv1(x)\n",
    "        x = F.relu(self.pool1(x)) # feature maps: 28 x 28\n",
    "        x = self.conv2(x)\n",
    "        x = F.relu(self.pool2(x)) # feature maps: 14 x 14\n",
    "        x = self.conv3(x)\n",
    "        x = F.relu(self.pool1(x)) # feature maps: 14 x 14\n",
    "        x = self.conv4(x)\n",
    "        x = F.relu(self.pool2(x)) # feature maps: 7 x 7\n",
    "        \n",
    "        ## decode ##\n",
    "        if self.use_ConvTrans:\n",
    "            x = self.decode_transposeConv(x)\n",
    "        else:\n",
    "            x = self.decode_upsampling(x)\n",
    "                \n",
    "                \n",
    "        return x"
   ]
  },
  {
   "cell_type": "code",
   "execution_count": 29,
   "metadata": {},
   "outputs": [
    {
     "name": "stdout",
     "output_type": "stream",
     "text": [
      "ConvDenoiser(\n",
      "  (conv1): Conv2d(1, 32, kernel_size=(3, 3), stride=(1, 1), padding=(1, 1))\n",
      "  (pool1): AvgPool2d(kernel_size=3, stride=1, padding=1)\n",
      "  (conv2): Conv2d(32, 16, kernel_size=(3, 3), stride=(1, 1), padding=(1, 1))\n",
      "  (pool2): MaxPool2d(kernel_size=2, stride=2, padding=0, dilation=1, ceil_mode=False)\n",
      "  (conv3): Conv2d(16, 8, kernel_size=(3, 3), stride=(1, 1), padding=(1, 1))\n",
      "  (conv4): Conv2d(8, 4, kernel_size=(3, 3), stride=(1, 1), padding=(1, 1))\n",
      "  (conv5): Conv2d(4, 8, kernel_size=(3, 3), stride=(1, 1), padding=(1, 1))\n",
      "  (conv6): Conv2d(8, 16, kernel_size=(3, 3), stride=(1, 1), padding=(1, 1))\n",
      "  (conv7): Conv2d(16, 32, kernel_size=(3, 3), stride=(1, 1), padding=(1, 1))\n",
      "  (conv8): Conv2d(32, 1, kernel_size=(3, 3), stride=(1, 1), padding=(1, 1))\n",
      "  (trans_conv1): ConvTranspose2d(4, 8, kernel_size=(2, 2), stride=(2, 2))\n",
      "  (trans_conv2): ConvTranspose2d(8, 16, kernel_size=(2, 2), stride=(2, 2))\n",
      "  (conv9): Conv2d(16, 32, kernel_size=(3, 3), stride=(1, 1), padding=(1, 1))\n",
      "  (conv10): Conv2d(32, 1, kernel_size=(3, 3), stride=(1, 1), padding=(1, 1))\n",
      ")\n"
     ]
    }
   ],
   "source": [
    "# initialize the NN\n",
    "model = ConvDenoiser(use_ConvTrans = True)\n",
    "print(model)"
   ]
  },
  {
   "cell_type": "code",
   "execution_count": 30,
   "metadata": {},
   "outputs": [
    {
     "name": "stdout",
     "output_type": "stream",
     "text": [
      "input images shape: torch.Size([20, 1, 28, 28])\n",
      "output images shape: torch.Size([20, 1, 28, 28])\n"
     ]
    }
   ],
   "source": [
    "imgs, _ = dataiter.next()\n",
    "print('input images shape: {}'.format(imgs.size()))\n",
    "outputs = model(imgs)\n",
    "print('output images shape: {}'.format(outputs.size()))"
   ]
  },
  {
   "cell_type": "markdown",
   "metadata": {},
   "source": [
    "## Setting the device"
   ]
  },
  {
   "cell_type": "code",
   "execution_count": 31,
   "metadata": {},
   "outputs": [
    {
     "name": "stdout",
     "output_type": "stream",
     "text": [
      "computations will be performed on device: cuda\n",
      "moving the model to device: cuda\n",
      "model is on device: cuda\n"
     ]
    }
   ],
   "source": [
    "device = torch.device('cuda') if torch.cuda.is_available() else torch.device('cpu')\n",
    "print('computations will be performed on device: {}'.format(device))\n",
    "\n",
    "# move the model to the chosen device\n",
    "model = model.to(device)\n",
    "print('moving the model to device: {}'.format(device))\n",
    "# check that the model is on the chosen device\n",
    "dev = 'cuda' if next(model.parameters()).is_cuda else 'cpu'\n",
    "print('model is on device: {}'.format(dev))\n"
   ]
  },
  {
   "cell_type": "code",
   "execution_count": 32,
   "metadata": {},
   "outputs": [
    {
     "data": {
      "text/plain": [
       "device(type='cuda', index=0)"
      ]
     },
     "execution_count": 32,
     "metadata": {},
     "output_type": "execute_result"
    }
   ],
   "source": [
    "dummy = np.random.uniform(size = (5,5))\n",
    "torch_dummy = torch.from_numpy(dummy)\n",
    "torch_dummy = torch_dummy.to(device)\n",
    "torch_dummy.device"
   ]
  },
  {
   "cell_type": "code",
   "execution_count": 33,
   "metadata": {},
   "outputs": [
    {
     "data": {
      "text/plain": [
       "device(type='cuda', index=0)"
      ]
     },
     "execution_count": 33,
     "metadata": {},
     "output_type": "execute_result"
    }
   ],
   "source": [
    "next(model.parameters()).device"
   ]
  },
  {
   "cell_type": "markdown",
   "metadata": {},
   "source": [
    "---\n",
    "## Training\n",
    "\n",
    "We are only concerned with the training images, which we can get from the `train_loader`.\n",
    "\n",
    ">In this case, we are actually **adding some noise** to these images and we'll feed these `noisy_imgs` to our model. The model will produce reconstructed images based on the noisy input. But, we want it to produce _normal_ un-noisy images, and so, when we calculate the loss, we will still compare the reconstructed outputs to the original images!\n",
    "\n",
    "Because we're comparing pixel values in input and output images, it will be best to use a loss that is meant for a regression task. Regression is all about comparing quantities rather than probabilistic values. So, in this case, I'll use `MSELoss`. And compare output images and input images as follows:\n",
    "```\n",
    "loss = criterion(outputs, images)\n",
    "```"
   ]
  },
  {
   "cell_type": "code",
   "execution_count": 34,
   "metadata": {},
   "outputs": [],
   "source": [
    "# specify loss function\n",
    "criterion = nn.MSELoss()\n",
    "\n",
    "# specify loss function\n",
    "optimizer = torch.optim.Adam(model.parameters(), lr=0.001)"
   ]
  },
  {
   "cell_type": "code",
   "execution_count": 35,
   "metadata": {},
   "outputs": [
    {
     "name": "stdout",
     "output_type": "stream",
     "text": [
      "Epoch: 1 \tTraining Loss: 0.608652\n",
      "Epoch: 2 \tTraining Loss: 0.424462\n",
      "Epoch: 3 \tTraining Loss: 0.392858\n",
      "Epoch: 4 \tTraining Loss: 0.371195\n",
      "Epoch: 5 \tTraining Loss: 0.359499\n",
      "Epoch: 6 \tTraining Loss: 0.350551\n",
      "Epoch: 7 \tTraining Loss: 0.344375\n",
      "Epoch: 8 \tTraining Loss: 0.338356\n",
      "Epoch: 9 \tTraining Loss: 0.333046\n",
      "Epoch: 10 \tTraining Loss: 0.327707\n",
      "Epoch: 11 \tTraining Loss: 0.323486\n",
      "Epoch: 12 \tTraining Loss: 0.319336\n",
      "Epoch: 13 \tTraining Loss: 0.315865\n",
      "Epoch: 14 \tTraining Loss: 0.312818\n",
      "Epoch: 15 \tTraining Loss: 0.310211\n",
      "Epoch: 16 \tTraining Loss: 0.308036\n",
      "Epoch: 17 \tTraining Loss: 0.305755\n",
      "Epoch: 18 \tTraining Loss: 0.304843\n",
      "Epoch: 19 \tTraining Loss: 0.302899\n",
      "Epoch: 20 \tTraining Loss: 0.302154\n"
     ]
    }
   ],
   "source": [
    "# number of epochs to train the model\n",
    "n_epochs = 20\n",
    "\n",
    "# for adding noise to images\n",
    "noise_factor=0.5\n",
    "\n",
    "for epoch in range(1, n_epochs+1):\n",
    "    # monitor training loss\n",
    "    train_loss = 0.0\n",
    "    \n",
    "    ###################\n",
    "    # train the model #\n",
    "    ###################\n",
    "    for data in train_loader:\n",
    "        # _ stands in for labels, here\n",
    "        # no need to flatten images\n",
    "        images, _ = data\n",
    "        \n",
    "        ## add random noise to the input images\n",
    "        noisy_imgs = images + noise_factor * torch.randn(*images.shape)\n",
    "        # Clip the images to be between 0 and 1\n",
    "        noisy_imgs = np.clip(noisy_imgs, 0., 1.)\n",
    "        \n",
    "        # move the images to cuda\n",
    "        images = images.to(device)\n",
    "        # check that the model and images are on the same device\n",
    "        assert images.device == next(model.parameters()).device, 'The images and the model are not on the same device '\n",
    "        \n",
    "        # move noisy_imgs to cuda\n",
    "        noisy_imgs = noisy_imgs.to(device)\n",
    "        # check that noisy images are on the correct device\n",
    "        assert noisy_imgs.device == next(model.parameters()).device, 'noisy_imgs are not on the same device as the model'\n",
    "                \n",
    "        # clear the gradients of all optimized variables\n",
    "        optimizer.zero_grad()\n",
    "        ## forward pass: compute predicted outputs by passing *noisy* images to the model\n",
    "        outputs = model(noisy_imgs)\n",
    "        # calculate the loss\n",
    "        # the \"target\" is still the original, not-noisy images\n",
    "        loss = criterion(outputs, images)\n",
    "        # backward pass: compute gradient of the loss with respect to model parameters\n",
    "        loss.backward()\n",
    "        # perform a single optimization step (parameter update)\n",
    "        optimizer.step()\n",
    "        # update running training loss\n",
    "        train_loss += loss.item()*images.size(0)\n",
    "            \n",
    "    # print avg training statistics \n",
    "    train_loss = train_loss/len(train_loader)\n",
    "    print('Epoch: {} \\tTraining Loss: {:.6f}'.format(\n",
    "        epoch, \n",
    "        train_loss\n",
    "        ))"
   ]
  },
  {
   "cell_type": "markdown",
   "metadata": {},
   "source": [
    "## Checking out the results\n",
    "\n",
    "Here I'm adding noise to the test images and passing them through the autoencoder. It does a suprising great job of removing the noise, even though it's sometimes difficult to tell what the original number is."
   ]
  },
  {
   "cell_type": "code",
   "execution_count": 37,
   "metadata": {},
   "outputs": [
    {
     "data": {
      "image/png": "[encoded data removed]",
      "text/plain": [
       "<Figure size 1800x288 with 20 Axes>"
      ]
     },
     "metadata": {
      "needs_background": "light"
     },
     "output_type": "display_data"
    }
   ],
   "source": [
    "# obtain one batch of test images\n",
    "dataiter = iter(test_loader)\n",
    "images, labels = dataiter.next()\n",
    "\n",
    "# add noise to the test images\n",
    "noisy_imgs = images + noise_factor * torch.randn(*images.shape)\n",
    "noisy_imgs = np.clip(noisy_imgs, 0., 1.)\n",
    "\n",
    "noisy_imgs = noisy_imgs.to(device)\n",
    "\n",
    "# get sample outputs\n",
    "output = model(noisy_imgs)\n",
    "# prep images for display\n",
    "noisy_imgs = noisy_imgs.cpu().numpy()\n",
    "\n",
    "# output is resized into a batch of iages\n",
    "output = output.view(batch_size, 1, 28, 28)\n",
    "# use detach when it's an output that requires_grad\n",
    "output = output.detach().cpu().numpy()\n",
    "\n",
    "# plot the first ten input images and then reconstructed images\n",
    "fig, axes = plt.subplots(nrows=2, ncols=10, sharex=True, sharey=True, figsize=(25,4))\n",
    "\n",
    "# input images on top row, reconstructions on bottom\n",
    "for noisy_imgs, row in zip([noisy_imgs, output], axes):\n",
    "    for img, ax in zip(noisy_imgs, row):\n",
    "        ax.imshow(np.squeeze(img), cmap='gray')\n",
    "        ax.get_xaxis().set_visible(False)\n",
    "        ax.get_yaxis().set_visible(False)"
   ]
  },
  {
   "cell_type": "code",
   "execution_count": null,
   "metadata": {},
   "outputs": [],
   "source": []
  }
 ],
 "metadata": {
  "kernelspec": {
   "display_name": "Python [conda env:pytorch]",
   "language": "python",
   "name": "conda-env-pytorch-py"
  },
  "language_info": {
   "codemirror_mode": {
    "name": "ipython",
    "version": 3
   },
   "file_extension": ".py",
   "mimetype": "text/x-python",
   "name": "python",
   "nbconvert_exporter": "python",
   "pygments_lexer": "ipython3",
   "version": "3.7.6"
  }
 },
 "nbformat": 4,
 "nbformat_minor": 2
}
